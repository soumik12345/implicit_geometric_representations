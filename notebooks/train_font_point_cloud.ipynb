{
 "cells": [
  {
   "cell_type": "code",
   "execution_count": null,
   "metadata": {},
   "outputs": [],
   "source": [
    "!pip install -q git+https://github.com/soumik12345/implicit_geometric_representations wandb"
   ]
  },
  {
   "cell_type": "code",
   "execution_count": null,
   "metadata": {},
   "outputs": [],
   "source": [
    "from implicit_representation.dataloaders import PointCloud2DFromFont, PointCloud2DBatman\n",
    "from implicit_representation.models import SDFModelBase\n",
    "from implicit_representation.callbacks import ProgressBarCallback, SDFVisualizationCallback\n",
    "\n",
    "import wandb\n",
    "from wandb.keras import WandbCallback\n",
    "from tqdm.autonotebook import tqdm\n",
    "\n",
    "import tensorflow as tf\n",
    "from tensorflow.keras import activations"
   ]
  },
  {
   "cell_type": "code",
   "execution_count": null,
   "metadata": {},
   "outputs": [],
   "source": [
    "ACTIVATION_DICT = {\n",
    "    \"softplus\": activations.softplus,\n",
    "    \"swish\": tf.nn.swish\n",
    "}"
   ]
  },
  {
   "cell_type": "code",
   "execution_count": null,
   "metadata": {},
   "outputs": [],
   "source": [
    "wandb.init(\n",
    "    project=\"implicit-geometric-representation\",\n",
    "    entity=\"geekyrakshit\", # Put your wandb username/entity\n",
    "    job_type=\"2d-font-point-cloud\"\n",
    ")\n",
    "config = wandb.config\n",
    "config.seed = 43\n",
    "tf.keras.utils.set_random_seed(config.seed)\n",
    "\n",
    "# Data Configs\n",
    "config.sample_percentage = 0.1\n",
    "config.font_file = \"/usr/share/fonts/truetype/dejavu/DejaVuSans.ttf\"\n",
    "config.font_size = 200\n",
    "config.query = \"Q\"\n",
    "config.padding = 5\n",
    "\n",
    "# Model Configs\n",
    "config.units = 80\n",
    "config.num_intermediate_layers = 2\n",
    "config.activation = \"softplus\"\n",
    "config.point_loss_coeff = 100.0\n",
    "config.eikonal_coefficient = 2.\n",
    "config.num_padding_points = 500\n",
    "\n",
    "# Training Configs\n",
    "config.learning_rate = 1e-3\n",
    "config.epochs = 2000"
   ]
  },
  {
   "cell_type": "code",
   "execution_count": null,
   "metadata": {},
   "outputs": [],
   "source": [
    "font_point_cloud = PointCloud2DFromFont(\n",
    "    sample_percentage=config.sample_percentage,\n",
    "    font_file=config.font_file,\n",
    "    font_size=config.font_size,\n",
    ")\n",
    "data = font_point_cloud.build(query=config.query, padding=config.padding)\n",
    "font_point_cloud.plot_points()"
   ]
  },
  {
   "cell_type": "code",
   "execution_count": null,
   "metadata": {},
   "outputs": [],
   "source": [
    "model = SDFModelBase(\n",
    "    num_points=data.shape[0],\n",
    "    units=config.units,\n",
    "    num_intermediate_layers=config.num_intermediate_layers,\n",
    "    activation=ACTIVATION_DICT[config.activation],\n",
    "    point_loss_coeff=config.point_loss_coeff,\n",
    "    eikonal_coefficient=config.eikonal_coefficient,\n",
    "    num_padding_points=config.num_padding_points,\n",
    ")\n",
    "model.compile(optimizer=tf.keras.optimizers.Adam(config.learning_rate))"
   ]
  },
  {
   "cell_type": "code",
   "execution_count": null,
   "metadata": {},
   "outputs": [],
   "source": [
    "history = model.fit(\n",
    "    tf.expand_dims(data, axis=0),\n",
    "    epochs=config.epochs,\n",
    "    verbose=0,\n",
    "    callbacks=[\n",
    "        ProgressBarCallback(epochs=config.epochs),\n",
    "        SDFVisualizationCallback(data),\n",
    "        WandbCallback()\n",
    "    ]\n",
    ")"
   ]
  },
  {
   "cell_type": "code",
   "execution_count": null,
   "metadata": {},
   "outputs": [],
   "source": [
    "wandb.finish()"
   ]
  }
 ],
 "metadata": {
  "kernelspec": {
   "display_name": "Python 3.7.12 ('base')",
   "language": "python",
   "name": "python3"
  },
  "language_info": {
   "codemirror_mode": {
    "name": "ipython",
    "version": 3
   },
   "file_extension": ".py",
   "mimetype": "text/x-python",
   "name": "python",
   "nbconvert_exporter": "python",
   "pygments_lexer": "ipython3",
   "version": "3.7.12"
  },
  "orig_nbformat": 4,
  "vscode": {
   "interpreter": {
    "hash": "d4d1e4263499bec80672ea0156c357c1ee493ec2b1c70f0acce89fc37c4a6abe"
   }
  }
 },
 "nbformat": 4,
 "nbformat_minor": 2
}
